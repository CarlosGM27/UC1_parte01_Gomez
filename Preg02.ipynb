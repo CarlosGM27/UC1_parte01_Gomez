{
 "cells": [
  {
   "cell_type": "code",
   "execution_count": null,
   "metadata": {},
   "outputs": [],
   "source": [
    "horas_estacionado = int(input(\"Ingrese el número de horas que ha estado estacionado: \"))\n",
    "\n",
    "if horas_estacionado <= 4:\n",
    "    importe = 6\n",
    "else:\n",
    "    importe = 6 + (horas_estacionado - 4) * 2\n",
    "\n",
    "print(\"El importe a pagar es:\", importe, \"soles\")"
   ]
  }
 ],
 "metadata": {
  "language_info": {
   "name": "python"
  },
  "orig_nbformat": 4
 },
 "nbformat": 4,
 "nbformat_minor": 2
}
