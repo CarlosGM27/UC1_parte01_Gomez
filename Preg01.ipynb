{
 "cells": [
  {
   "cell_type": "code",
   "execution_count": null,
   "metadata": {},
   "outputs": [],
   "source": [
    "a = int(input(\"Ingrese el 1 numero \"))\n",
    "b = int(input(\"Ingrese el 2 numero \"))\n",
    "\n",
    "temp = a\n",
    "a = b\n",
    "b = temp\n",
    "\n",
    "print(\"El valor de a es:\", a)  \n",
    "print(\"El valor de b es:\", b)"
   ]
  }
 ],
 "metadata": {
  "language_info": {
   "name": "python"
  },
  "orig_nbformat": 4
 },
 "nbformat": 4,
 "nbformat_minor": 2
}
